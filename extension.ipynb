{
 "cells": [
  {
   "cell_type": "markdown",
   "metadata": {},
   "source": [
    "# Extension of the Project for CS 401 Applied Data Analysis course\n",
    "\n",
    "By: Team Data Nuage\n",
    "\n",
    "Paper: [Link](https://cs.stanford.edu/people/jure/pubs/triads-chi10.pdf)\n",
    "\n",
    "<hr style=\"border:5px solid gray\"> </hr>"
   ]
  },
  {
   "cell_type": "markdown",
   "metadata": {},
   "source": [
    "## Extension Description\n",
    "\n",
    "### Title: Behaviour of edge signs in economic and non-living entities networks\n",
    "\n",
    "#### Abstract\n",
    "\n",
    "The analysis performed in this [work](https://cs.stanford.edu/people/jure/pubs/triads-chi10.pdf) enabled the authors to evaluate the social psychological theories of balance and status in social networks. This work allows us to better understand and predict the signs of relationships in social networks. The theories have been formulated on humans and were tested on them and the [paper](https://cs.stanford.edu/people/jure/pubs/triads-chi10.pdf) tests them on the connections formed by humans on social networking sites. To take this analysis one step further, we would like to observe how well these social theories hold up when the network context has changed. Moreover, we would also like to perceive the similarities and differences in analyzing the signs of relationships between entities created by people instead of the people themselves. For these two cases, we will be using a bitcoin dataset to provide a network in a financial setting (economic context) and a Reddit dataset that presents a graph of subreddits created by users. Our analysis would include observing and also presenting statistics about the number of balanced and unbalanced triads in the data and thereby interpreting the validity of balance and status theory and corroborate or contradicting the claims of the authors made in the original paper.\n",
    "\n",
    "#### Research Questions\n",
    "\n",
    "In this extension, we want to verify and discuss the generalization of the balance and status theory on other types of networks. Specifically, we want to answer the following questions\n",
    "\n",
    "1. Whether the proposed theories on balance and status can be extended to `networks created based on monetary/profit relationships` **instead of** of `relationships created as social connections in slashdot data` i.e. will the relations between people (users) still follow the balance and status theory even when there is a direct cash transaction involved?\n",
    "2. Secondly, will the theories of balance and status propagate from the **individual human relations** to the **nonliving entities** that are created and controlled by living entities? Here the graph is formed by the units that are created by humans and signs are based on relations between these units. Thus, we want to verify if the collective behavior of humans in those units follows the same laws as individuals. The datasets in the paper are representative of the direct opinion of one person on the other, unlike the Reddit dataset where the relation is between human-created units (that carry the opinion of humans).\n",
    "\n",
    "#### Proposed datasets\n",
    "\n",
    "For this extension, we are going to use the following two datasets.\n",
    "\n",
    "In order to answer the first question we use [soc-sign-bitcoinalpha.csv.gz](http://snap.stanford.edu/data/soc-sign-bitcoin-alpha.html) dataset and use [soc-redditHyperlinks-body.tsv](http://snap.stanford.edu/data/soc-RedditHyperlinks.html) for the second question.\n",
    "\n",
    "The signed network in the bitcoin transaction dataset is created by users trading Bitcoins, who rate other members on a scale of -10 (total distrust) to +10 (total trust) to prevent transactions with fraudulent and risky users.\n",
    "\n",
    "The signed network in the Reddit dataset is the connections between two subreddits (a community on Reddit). Each connection represents the sentiments of one community towards the other.\n",
    "\n",
    "#### Methods\n",
    "\n",
    "##### Data Collection and Graph Building\n",
    "\n",
    "We shall use the datasets from the above-provided URLs. As the datasets are already clean, we do not need to any preprocessing and build the graphs directly.\n",
    "\n",
    "##### Undirected Analysis (to evaluate 'balance' theory)\n",
    "\n",
    "1. Observe the counts of 4 possible signed triads.\n",
    "2. Observe the frequency of triad occurrence with a random distribution of signs in the network.\n",
    "3. Contrast between the original triad frequency and with random distribution.\n",
    "\n",
    "##### Directed Analysis (to evaluate 'status' theory predictions)\n",
    "\n",
    "1. Observe the frequency of Contextualized links (clink): It's a triple formed when node A and node B have an edge to or from another node X before A and B form an edge between each other.\n",
    "2. Compute the generative baseline and surprise, receptive baseline, and surprise for each type of clink.\n",
    "3. Using the above-computed metrics, check the consistency with Balance and Status theory.\n",
    "\n",
    "##### Perform analysis on edge reciprocation\n",
    "\n",
    "1. Observe the number of reciprocations for each type of edge that is the first connection being positive or negative and reciprocal connection being negative or positive\n",
    "2. Calculate the probability of reciprocation for each type"
   ]
  },
  {
   "cell_type": "code",
   "execution_count": 1,
   "metadata": {},
   "outputs": [],
   "source": [
    "# Importing Libraries\n",
    "import os, pickle\n",
    "import pandas as pd\n",
    "import networkx as nx\n",
    "from collections import Counter\n",
    "from prettytable import PrettyTable\n",
    "from tqdm import tqdm\n",
    "import time\n",
    "import numpy as np\n",
    "import scipy as sp"
   ]
  },
  {
   "cell_type": "markdown",
   "metadata": {},
   "source": [
    "<hr style=\"border:2px solid black\"> </hr>\n",
    "\n",
    "## Functions\n",
    "\n",
    "Here we create functions that will be useful across all the datasets"
   ]
  },
  {
   "cell_type": "markdown",
   "metadata": {},
   "source": [
    "#### Function to create a directed graph from the dataframe"
   ]
  },
  {
   "cell_type": "code",
   "execution_count": 2,
   "metadata": {},
   "outputs": [],
   "source": [
    "def create_graph_from_df(dataframe_edges: pd.DataFrame):\n",
    "    \"\"\"\n",
    "    This function accepts the edge list dataframe and returns a directed graph\n",
    "    \n",
    "    :param dataframe_edges (pd.DataFrame): A dataframe with edge lists of a graph\n",
    "    :return rnd_graph (nx.Graph): A directed graph constructed using the edgelist\n",
    "    \"\"\"\n",
    "    \n",
    "    graph = nx.from_pandas_edgelist(dataframe_edges, source='FromNodeId', target='ToNodeId', edge_attr='Sign', create_using=nx.DiGraph())\n",
    "    # create_using=nx.DiGraph() indicates to create a directed graph\n",
    "    return graph"
   ]
  },
  {
   "cell_type": "markdown",
   "metadata": {},
   "source": [
    "#### Function to count number of nodes and edges in a graph"
   ]
  },
  {
   "cell_type": "code",
   "execution_count": 3,
   "metadata": {},
   "outputs": [],
   "source": [
    "def count_nodes_edges(graph: nx.Graph):\n",
    "    \"\"\"\n",
    "    This function accepts the graph and returns the number of nodes and edges in the graph\n",
    "    \n",
    "    :param graph (nx.Graph): The graph to be counted\n",
    "    :return nodes (int): The number of nodes in the graph\n",
    "    :return edges (int): The number of edges in the graph\n",
    "    \"\"\"\n",
    "    \n",
    "    # Number of nodes in the graph\n",
    "    nodes = graph.number_of_nodes()\n",
    "\n",
    "    # Number of edges in the graph\n",
    "    edges = graph.number_of_edges()\n",
    "    \n",
    "    return nodes, edges"
   ]
  },
  {
   "cell_type": "markdown",
   "metadata": {},
   "source": [
    "#### Function to count number of positive and negative edges in a graph"
   ]
  },
  {
   "cell_type": "code",
   "execution_count": 4,
   "metadata": {},
   "outputs": [],
   "source": [
    "def count_edge_signs(graph: nx.Graph):\n",
    "    \"\"\"\n",
    "    This function accepts the graph and returns the percentage of positive and negative edges in the graph\n",
    "    \n",
    "    :param graph (nx.Graph): The graph to be counted\n",
    "    :return positive (float): The percentage of positive edges in the graph\n",
    "    :return negative (float): The percentage of negative edges in the graph\n",
    "    \"\"\"\n",
    "    \n",
    "    # we retrieve the edges of the graph to check the number of positive and negative links\n",
    "    weights = graph.edges(data=True) \n",
    "\n",
    "    # weights is a list of tuples with the first node, second node, and edge attributes. We save the sign attribute to count the number of positive and negative edges.\n",
    "    signs = [attr[2][\"Sign\"] for attr in weights]\n",
    "    \n",
    "    total = len(signs)\n",
    "\n",
    "    # We calculate the number of positive and negative numbers \n",
    "    pos = len(list(filter(lambda x: (x >= 0), signs)))\n",
    "    neg = len(list(filter(lambda x: (x < 0), signs)))\n",
    "    \n",
    "    # The percentage is calculated and rounded to one decimal place as to be consistent with the Table in the paper\n",
    "    positive = round((pos/total)*100,1)\n",
    "    negative = round((neg/total)*100,1)\n",
    "    \n",
    "    \n",
    "    return positive, negative"
   ]
  },
  {
   "cell_type": "markdown",
   "metadata": {},
   "source": [
    "#### Function to count the number of triads of one of the 4 types shown below in a graph\n",
    "\n",
    "<img src=\"./images/figure_1.png\" width=500 align=\"center\" />\n",
    "\n",
    "##### Logic for calculating the number of triads of one of the 4 types shown below in a graph\n",
    "\n",
    "1. We convert the graph into an adjacency matrix along with the edge sign and consider the upper triangular part of it to avoid counting duplicate triads and the self-loops.\n",
    "2. As the matrix is sparse and to avoid memory crash, we take the Coordinate list (COO) and Compressed sparse row (CSR) for zero diagonal matrices.\n",
    "    * In COO format, instead of having access to all elements of the matrix, we only have access to the row, column, and the value of non zero elements by .row, .col, and .data commands.\n",
    "3. We go over each node (primary node) of the graph using the upper triangular adjacency matrix (UTAM).\n",
    "4. We get the list of nodes connected to the primary node and create a sub-square matrix from the CSR representation of the UTAM.\n",
    "5. The submatrix contains all the adjacency representation of the nodes all nodes connected to the primary node and each nonzero entry of this submatrix represents a triad.\n",
    "6. For each of the triad identified here, we get the sum of edge signs, and depending on the sum we increase the count of the respective triad. \n",
    "   \n",
    "   \n",
    "        A sum of 3 indicates a type T3, a sum of 1 indicates a type T2, a sum of -1 indicates a T1 and finally a sum of -3 indicates a T0.\n",
    "        \n",
    "**The reason for using a sparse matrix representation is to gain speed and not full out the available memory**\n",
    "    \n",
    "**As this an expensive calculation, we store the information of nodes and sum of signs in the pickle file and try to return that data if the function is called again. For this, a unique file name has to be provided.**    "
   ]
  },
  {
   "cell_type": "code",
   "execution_count": 5,
   "metadata": {},
   "outputs": [],
   "source": [
    "def triad_tuple(graph: nx.Graph):\n",
    "    \"\"\"\n",
    "    This function accepts the graph and returns the triads in the graph along with the sum of edge signs\n",
    "    \n",
    "    :param graph (nx.Graph): The graph to be counted\n",
    "    :return triad_and_sum (list): A list with triad nodes and sum of edge signs\n",
    "    \"\"\"\n",
    "    \n",
    "    # a list to store the nodes of a triad and the sum of its signs\n",
    "    triad_and_sum = list()\n",
    "\n",
    "    #convert directed graph to undirected graph\n",
    "    undir_graph = graph.to_undirected(reciprocal=False) # Reciprocal is set to false to retain edges that are unidirectional in the directed graph\n",
    "    \n",
    "    # calculating adjacency matrix using networkx\n",
    "    adj_mat = nx.adjacency_matrix(undir_graph, weight='Sign')\n",
    "    \n",
    "    # upper triangle adjacency matrix in coo format\n",
    "    UA = sp.sparse.triu(adj_mat, k=1)\n",
    "    # upper triangle adjacency matrix in csr format\n",
    "    UA_csr = UA.tocsr()\n",
    "    \n",
    "    # total number of all the nodes of the network\n",
    "    n_nodes = UA.shape[0]\n",
    "    \n",
    "    for prim_node in range(n_nodes):\n",
    "        idx = (UA.row == prim_node)\n",
    "\n",
    "        # possible triad nodes to the primary node\n",
    "        pos_nodes = UA.col[idx]\n",
    "\n",
    "        # sub matrix\n",
    "        conn_submatrix = UA_csr[pos_nodes, pos_nodes.reshape(-1, 1)]\n",
    "\n",
    "        # the values of the nodes of each triad:\n",
    "        vertex_1 = pos_nodes[conn_submatrix.tocoo().row].reshape(-1, 1)\n",
    "        vertex_2 = pos_nodes[conn_submatrix.tocoo().col].reshape(-1, 1)\n",
    "        vertex_3 = (prim_node * np.ones(len(vertex_1))).reshape(-1, 1)\n",
    "        \n",
    "        possible_triads = np.concatenate([vertex_3, vertex_1, vertex_2], axis=1).astype('int')\n",
    "        for node_1, node_2, node_3 in possible_triads:\n",
    "            tot_sum = UA_csr[node_1, node_2] + UA_csr[node_3, node_2] + UA_csr[node_1, node_3]\n",
    "            triad_and_sum.append(((node_1, node_2, node_3), tot_sum))\n",
    "    \n",
    "    return triad_and_sum\n",
    "\n",
    "\n",
    "def count_undir_triads(graph: nx.Graph, file_path: str):\n",
    "    \"\"\"\n",
    "    This function accepts the graph and returns the number of triads in the graph for each type in an undirected setting\n",
    "    \n",
    "    :param graph (nx.Graph): The graph to be counted\n",
    "    :param file_path (str): The path of the file to store/load the triad nodes in a pickle (binary) file.\n",
    "    :return triad_counts (dict): The number of triads of each type in the graph\n",
    "    \"\"\"\n",
    "    \n",
    "    \n",
    "    # empty dictionary to store triad counts\n",
    "    triad_counts = {\"T3\":0, \"T2\":0, \"T1\":0, \"T0\":0}\n",
    "\n",
    "    # a dictionry to indicate the type of triad based on the sum of signs\n",
    "    triad_type = {3:\"T3\", 1:\"T2\", -1:\"T1\", -3:\"T0\"}\n",
    "\n",
    "    # checking if triad list is already available\n",
    "    try:\n",
    "        triad_and_sum = pickle.load(open(file_path+\".pickle\", \"rb\"))\n",
    "    \n",
    "    except IOError:\n",
    "        triad_and_sum = triad_tuple(graph) \n",
    "        os.makedirs(os.path.dirname(file_path), exist_ok=True)\n",
    "        with open(file_path+\".pickle\", 'wb') as handle:\n",
    "            pickle.dump(triad_and_sum, handle, protocol=pickle.HIGHEST_PROTOCOL)\n",
    "\n",
    "    summed_signs = [trisum[1] for trisum in triad_and_sum]\n",
    "    sum_count = Counter(summed_signs)\n",
    "    triad_counts = {triad_type[sumval]:count for sumval, count in sum_count.items()}\n",
    "\n",
    "    return triad_counts"
   ]
  },
  {
   "cell_type": "markdown",
   "metadata": {},
   "source": [
    "#### Function to randomise signs in the dataframe according to the proportion of positive and negative signs"
   ]
  },
  {
   "cell_type": "code",
   "execution_count": 6,
   "metadata": {},
   "outputs": [],
   "source": [
    "def randomize_df(graph_df: pd.DataFrame):\n",
    "    \"\"\"\n",
    "    This function accepts the edge list data frame and returns the data frame containing the edges with random sign distribution.\n",
    "    \n",
    "    :param graph_df (pd.DataFrame): A dataframe with edge lists of a graph\n",
    "    :return rnd_graph_df (pd.DataFrame): the dataframe with random sign edges\n",
    "    \"\"\"\n",
    "    \n",
    "    rnd_graph_df = graph_df.copy()\n",
    "    rnd_graph_df = rnd_graph_df.sample(frac=1) # shuffle\n",
    "    rnd_graph_df.reset_index(inplace=True, drop=True)\n",
    "    rnd_graph_df['FromNodeId'] = graph_df['FromNodeId']\n",
    "    rnd_graph_df['ToNodeId'] = graph_df['ToNodeId']\n",
    "    rnd_graph_df[\"Time\"] = graph_df['Time']\n",
    "\n",
    "    return rnd_graph_df"
   ]
  },
  {
   "cell_type": "markdown",
   "metadata": {},
   "source": [
    "#### Function to calculate the statistics related analysis of undirected graph."
   ]
  },
  {
   "cell_type": "code",
   "execution_count": 7,
   "metadata": {},
   "outputs": [],
   "source": [
    "def get_undir_surprise(Ti: int, PoTi: float, delta: int):\n",
    "    \"\"\"\n",
    "    This function accepts the number of triads of a type, prior probability of that of the triad, and the total number of triads and\n",
    "    returns the surprise.\n",
    "    \n",
    "    :param Ti (int): The number of triads of a type in the graph\n",
    "    :param PoTi (float):  A priori probability of the type of triad\n",
    "    :param delta (int): The total number of triads in the graph\n",
    "    :return surp (float): The surprise which is defined as the number of standard deviations by which the actual quantity of triads of a type differs\n",
    "    from the expected number under the random-shuffling model.\n",
    "    \"\"\"\n",
    "    ETi = PoTi * delta\n",
    "    sup_num = Ti - ETi\n",
    "    sup_den = np.sqrt(ETi*(1-PoTi))\n",
    "    surp = sup_num/sup_den\n",
    "    return surp\n",
    "\n",
    "\n",
    "def get_undirected_metrics(graph_udir_triads: dict, rnd_graph_udir_triads: dict):\n",
    "    \"\"\"\n",
    "    This function accepts the triad count of the graph and the random graph and\n",
    "    returns the Fraction of triads of each type along with the prior probability and the surprise.\n",
    "    \n",
    "    :param graph_udir_triads (dict): The number of triads of each type in the graph\n",
    "    :param rnd_graph_udir_triads (dict): The number of triads of each type in the graph\n",
    "    :return graph_stats (dict): A dictionary containing the information on the number of balanced and unbalanced undirected triads in the graph\n",
    "    \"\"\"\n",
    "    \n",
    "    graph_stats = {}\n",
    "    \n",
    "    delta = sum(graph_udir_triads.values())\n",
    "    graph_stats[\"delta\"] = delta\n",
    "    \n",
    "    for ttype, Ti in graph_udir_triads.items():\n",
    "        \n",
    "        pTi = Ti/delta\n",
    "        poTi = rnd_graph_udir_triads[ttype]/delta\n",
    "        STi = get_undir_surprise(Ti, poTi, delta)\n",
    "        \n",
    "        graph_stats[ttype] = {\"Ti\": Ti, \"pTi\":round(pTi, 3), \"poTi\":round(poTi, 3), \"STi\": round(STi,1)}\n",
    "    \n",
    "    return graph_stats"
   ]
  },
  {
   "cell_type": "markdown",
   "metadata": {},
   "source": [
    "#### Function to calculate the generative and receptive baseline of each node."
   ]
  },
  {
   "cell_type": "code",
   "execution_count": 8,
   "metadata": {},
   "outputs": [],
   "source": [
    "def get_baselines(graph:nx.DiGraph):\n",
    "    \"\"\"\n",
    "    This function accepts the directed graph and returns the generative and receptive baselines for each node.\n",
    "    \n",
    "    :param graph (nx.DiGraph): The directed graph\n",
    "    :return gen_base (dict): A dictionary with keys as node and the values as their generative baselines.\n",
    "    :return rec_base (dict): A dictionary with keys as node and the values as their receptive baselines.\n",
    "    \"\"\"\n",
    "    \n",
    "    # dictionaries to store baselines\n",
    "    gen_base = {}\n",
    "    rec_base = {}\n",
    "    \n",
    "    # for each node\n",
    "    for node in tqdm(graph):\n",
    "        \n",
    "        # get the incoming edges and calculate the generative baseline\n",
    "        try:\n",
    "            inedges = graph.in_edges(node, data=True)\n",
    "            gen_num = sum(in_edge[2][\"Sign\"] for in_edge in inedges if in_edge[2][\"Sign\"] == 1)\n",
    "            gen_base[node] = gen_num/len(inedges)\n",
    "        except:\n",
    "            gen_base[node] =0\n",
    "        \n",
    "        # get the outgoing edges and calculate the recptive baseline\n",
    "        try:\n",
    "            outedges = graph.out_edges(node, data=True)\n",
    "            rec_num = sum(out_edge[2][\"Sign\"] for out_edge in outedges if out_edge[2][\"Sign\"] == 1)\n",
    "            rec_base[node] = rec_num/len(outedges)\n",
    "        except:\n",
    "            rec_base[node] = 0\n",
    "            \n",
    "    return gen_base, rec_base"
   ]
  },
  {
   "cell_type": "markdown",
   "metadata": {},
   "source": [
    "#### Function to statistics related to directed graph\n",
    "\n",
    "* To analyze the network as it grows, we do not build the entire graph at once, we build edge by edge based on the time they were created.\n",
    "\n",
    "    1. We sort the data frame based on the `Time` column.\n",
    "    2. We go over each edge in the data frame and get the common neighbors between the from node and to node.\n",
    "    3. Then, get the type of edges between the to and from node to the common neighbor and update the respective count, generative, and receptive base.\n",
    "    4. Using the edge sign we assign the status to from node and to node and subsequently append it to the triad type.\n",
    "    5. We also append the sign prediction using balance theory to evaluate the balance theory.\n",
    "\n",
    "##### Prediction of edge sign using Balance theory\n",
    "\n",
    "* According to balance theory triads with three positive signs and one positive sign are more popular than others. Using this we predict as follows\n",
    "    1. If the two edges already existing are positive, then the third edge would be positive.\n",
    "    2. If the two edges already existing are negative, then the third edge would be positive.\n",
    "    3. If there is one positive edge, one negative edge already existing, then the third edge would be negative.\n",
    "\n",
    "        \n",
    "This will make the prediction of edge as positive for triads of type $t_1$, $t_3$, $t_6$, $t_8$, $t_9$, $t_{11}$, $t_{14}$ and $t_{16}$, and negative for the remaning.\n",
    "   \n",
    "\n",
    "##### Edge Reciprocation\n",
    "\n",
    "* To analyze the reciprocal relationships, we examine the probability of nodes exchanging signs. There are four possibilities for reciprocation which is given a positive (or a negative) edge from node A to node B there can a positive or a negative (negative or a positive) edge from node B to A.\n",
    "\n",
    "* For calculation, while adding a new edge to the graph we check if a reverse edge exists and if so, increase the count.\n"
   ]
  },
  {
   "cell_type": "code",
   "execution_count": 9,
   "metadata": {},
   "outputs": [],
   "source": [
    "def get_directed_stats(edge_dataframe: pd.DataFrame, tri_mapping: dict, gen_base: dict, rec_base: dict):  \n",
    "    \"\"\"\n",
    "    This function accepts the data frame containing the edges and the Time of edge creation,\n",
    "    the mapping of triad types, generative and receptive bases of nodes and\n",
    "    return the census for each type of the 16 triads in a directed graph.\n",
    "    The census includes the number of triads of the specified type,\n",
    "    the number of positive edges created while completing the triad (i.e. A-B edges),\n",
    "    the generative and receptive base of the triad type,\n",
    "    the status of A and B in each of the triad in each triad type. \n",
    "    Along with the census, a dictionary containing the count for each type of reciprocation as mentioned above.\n",
    "    \n",
    "    :param edge_dataframe (pd.DataFrame): The data frame with edge list\n",
    "    :param tri_mapping (dict): A dictionary mapping the triad edge attribute to its type.\n",
    "    :param gen_base (dict): A dictionary with keys as a node and the values as their generative baselines.\n",
    "    :param rec_base (dict): A dictionary with keys as a node and the values as their receptive baselines.\n",
    "    :return dir_graph_stats (dict): A dictionary of dictionary with triad type as first-level key and\n",
    "    the count, positive edges, generative base, receptive base, statuses of from node, statuses of to node,\n",
    "    the edge sign predicted using balance theory.\n",
    "    :return recpr_dict (dict): A dictionary with key as the type of reciprocation and value as the count\n",
    "    \"\"\"\n",
    "    \n",
    "    # an empty directed graph to store the building graph \n",
    "    dir_graph = nx.DiGraph()\n",
    "    \n",
    "    sorted_dataframe = edge_dataframe.sort_values(by='Time', ascending=True).reset_index(drop=True)\n",
    "    \n",
    "    # a dictionary to store the information related to each type of 16 triads\n",
    "    dir_graph_stats = {\"t\"+str(i):{\"tot\":0, \"pos\":0, \"gb\":0,\"rb\":0, \"status_a\": 0, \"status_b\": 0, \"bal_pred_sign\": 0} for i in range(1,17)}\n",
    "    # a dictionary to store the count related to each type of reciprocation\n",
    "    recpr_dict = {\"P(+|+)\":0,\"P(-|+)\":0,\"P(+|-)\":0,\"P(-|-)\":0}\n",
    "    \n",
    "    # building the graph\n",
    "    for rid, row in tqdm(sorted_dataframe.iterrows()):\n",
    "        frm_node = row[\"FromNodeId\"]\n",
    "        to_node = row[\"ToNodeId\"]\n",
    "        sgn = row[\"Sign\"]\n",
    "        \n",
    "        # check if the inverse edge exists and increase the corresponding count\n",
    "        if dir_graph.has_edge(to_node, frm_node):\n",
    "            fst_sgn = dir_graph.get_edge_data(to_node, frm_node)[\"Sign\"]\n",
    "            \n",
    "            sgn_pair = (sgn, fst_sgn)\n",
    "            if sgn_pair == (1,1):\n",
    "                recpr_dict[\"P(+|+)\"] += 1\n",
    "            elif sgn_pair == (-1,1):\n",
    "                recpr_dict[\"P(-|+)\"] += 1\n",
    "            elif sgn_pair == (1,-1):\n",
    "                recpr_dict[\"P(+|-)\"] += 1\n",
    "            elif sgn_pair == (-1,-1):\n",
    "                recpr_dict[\"P(-|-)\"] += 1\n",
    "            \n",
    "        \n",
    "        # check if the from node and to node are already in the graph to check for triads\n",
    "        if (frm_node in dir_graph) and (to_node in dir_graph) and (frm_node != to_node):\n",
    "            \n",
    "            # get the neighbors of from node and the to node\n",
    "            frm_nbs = set(dir_graph.successors(frm_node)).union(dir_graph.predecessors(frm_node))\n",
    "            to_nbs = set(dir_graph.successors(to_node)).union(dir_graph.predecessors(to_node))\n",
    "            # get the common neighbors between the from node and to node\n",
    "            cmn_nbs = set(frm_nbs.intersection(to_nbs))\n",
    "            \n",
    "            for nbr in cmn_nbs:\n",
    "                # check and ignore self loops for from node and to node\n",
    "                if nbr not in [frm_node, to_node]:\n",
    "                    # the two lists stores the direction and sign of the connection between common neighbour and from and to nodes.\n",
    "                    frm_nbr = []\n",
    "                    to_nbr = []\n",
    "\n",
    "                    # check if the connection is originating from the from (to) node or neighbour\n",
    "                    if dir_graph.has_edge(frm_node, nbr):\n",
    "                        frm_nbr.append((\"fs\", dir_graph.get_edge_data(frm_node, nbr)[\"Sign\"]))\n",
    "                    if dir_graph.has_edge(nbr, frm_node):\n",
    "                        frm_nbr.append((\"fr\", dir_graph.get_edge_data(nbr, frm_node)[\"Sign\"]))\n",
    "\n",
    "                    if dir_graph.has_edge(to_node, nbr):\n",
    "                        to_nbr.append((\"ts\", dir_graph.get_edge_data(to_node, nbr)[\"Sign\"]))\n",
    "                    if dir_graph.has_edge(nbr, to_node):\n",
    "                        to_nbr.append((\"tr\", dir_graph.get_edge_data(nbr, to_node)[\"Sign\"]))\n",
    "\n",
    "                    for from_type in frm_nbr:\n",
    "                        for to_type in to_nbr:\n",
    "                            # get the type of triad\n",
    "                            tri_type = tri_mapping[frozenset([from_type, to_type])]\n",
    "                            # increase the count of the triad type\n",
    "                            dir_graph_stats[tri_type][\"tot\"] += 1 \n",
    "                            # if the sign of the to be formed link is positive, increase the count of positive links for the type of c-link\n",
    "                            if sgn == 1:\n",
    "                                dir_graph_stats[tri_type][\"pos\"] += 1\n",
    "                            # add the generative (receptive) base line of from (to) node to the triad type \n",
    "                            dir_graph_stats[tri_type][\"gb\"] += gen_base[frm_node]\n",
    "                            dir_graph_stats[tri_type][\"rb\"] += rec_base[to_node]\n",
    "\n",
    "                            # status of from node\n",
    "                            if from_type in [(\"fr\",1), (\"fs\",-1)]:\n",
    "                                dir_graph_stats[tri_type][\"status_a\"] += 1\n",
    "                            else:\n",
    "                                dir_graph_stats[tri_type][\"status_a\"] += -1\n",
    "\n",
    "                            # status of to node\n",
    "                            if to_type in [(\"tr\",1), (\"ts\",-1)]:\n",
    "                                dir_graph_stats[tri_type][\"status_b\"] += 1\n",
    "                            else:\n",
    "                                dir_graph_stats[tri_type][\"status_b\"] += -1\n",
    "                            \n",
    "                            # prediction using balance theory\n",
    "                            if tri_type in [\"t1\", \"t3\", \"t6\", \"t8\", \"t9\", \"t11\", \"t14\", \"t16\"]:\n",
    "                                dir_graph_stats[tri_type][\"bal_pred_sign\"] += 1\n",
    "                            else:\n",
    "                                dir_graph_stats[tri_type][\"bal_pred_sign\"] += -1\n",
    "                                \n",
    "        dir_graph.add_edge(frm_node, to_node, Sign=sgn)\n",
    "    return dir_graph_stats, recpr_dict"
   ]
  },
  {
   "cell_type": "markdown",
   "metadata": {},
   "source": [
    "#### Function to calculate the probability of a positive edge in directed graph.\n",
    "\n",
    "We calculate the probability of positive edges by dividing the number of positive edges by total number of edges."
   ]
  },
  {
   "cell_type": "code",
   "execution_count": 10,
   "metadata": {},
   "outputs": [],
   "source": [
    "def get_posprob(dir_graph_stats: dict):\n",
    "    \"\"\"\n",
    "    This function accepts the stats related to a directed graph and returns the probability of positive edges\n",
    "    \n",
    "    :param dir_graph_stats (dict): A dictionary of dictionary with triad type as first level key and\n",
    "    the count, positive edges, generative base, receptive base, statuses of from node, statuses of to node.\n",
    "    :return pos_prob (dict): A dictionary with keys as triad type and the values as probability of positive edge in the triad.\n",
    "    \"\"\"\n",
    "    \n",
    "    pos_prob = {ttype: dir_graph_stats[ttype][\"pos\"]/dir_graph_stats[ttype][\"tot\"] for ttype in dir_graph_stats}\n",
    "    return pos_prob"
   ]
  },
  {
   "cell_type": "markdown",
   "metadata": {},
   "source": [
    "#### Function to calculate the generative and receptive surprise in each type of triad and respective evaluation of Balance and Status theories\n",
    "\n",
    "We shall follow a similar procedure used for undirected graph except that here the calculation is for the edges."
   ]
  },
  {
   "cell_type": "code",
   "execution_count": 11,
   "metadata": {},
   "outputs": [],
   "source": [
    "def directed_evaluation(dir_graph_stats: dict, pos_prob: dict):\n",
    "    \"\"\"\n",
    "    This function accepts the stats related to a directed graph, the apriori probability of having a positive edge\n",
    "    and return the probability of having a positive edge in a triad, generative surprise, and receptive surprise.\n",
    "    \n",
    "    :param dir_graph_stats (dict): A dictionary of dictionary with triad type as first level key and\n",
    "    the count, positive edges, generative base, receptive base, statuses of from node, statuses of to node.\n",
    "    :param pos_prob (dict): A dictionary with keys as triad type and the values as probability of positive edge in the triad.\n",
    "    :return dir_graph_surp (dict): A dictionary of dictionary with triad type as first level key and\n",
    "    the probability of positive edges, generative surprise, receptive surprise, booleans indicating\n",
    "    consistency of balance with generative surprise,\n",
    "    consistency of balance with receptive surprise,\n",
    "    consistency of status with generative surprise,\n",
    "    consistency of status with receptive surprise.\n",
    "    \"\"\"\n",
    "    \n",
    "    def get_surp(actual, expected, p_prob):\n",
    "        sup_num = actual - expected\n",
    "        sup_den = np.sqrt(expected * (1 - p_prob))\n",
    "        surp = sup_num/sup_den\n",
    "        return surp\n",
    "    \n",
    "    dir_graph_surp = {}\n",
    "    for ttype, tprop in dir_graph_stats.items():\n",
    "        dir_graph_surp[ttype] = {}\n",
    "        dir_graph_surp[ttype][\"count\"] = tprop[\"tot\"]\n",
    "        dir_graph_surp[ttype][\"P+\"] = round(tprop[\"pos\"]/tprop[\"tot\"], 2)\n",
    "        dir_graph_surp[ttype][\"Po+\"] = round(pos_prob[ttype], 2)\n",
    "        \n",
    "        # gen_surp denotes the generative surprise\n",
    "        gen_surp = get_surp(tprop[\"pos\"], tprop[\"gb\"], pos_prob[ttype])\n",
    "        dir_graph_surp[ttype][\"gen_surp\"] = round(gen_surp, 1)\n",
    "        \n",
    "        # consistency of status with generative surprise\n",
    "        # in case of equal positive and negative status we assume the sign matches\n",
    "        if np.sign(tprop[\"status_b\"]) in [0, np.sign(gen_surp)]:\n",
    "            sg = True\n",
    "        else:\n",
    "            sg = False\n",
    "        \n",
    "        dir_graph_surp[ttype][\"sg\"] = sg\n",
    "        \n",
    "        # consistency of balance with generative surprise\n",
    "        # in case of equal positive and negative predictions we assume the prediction matches\n",
    "        if np.sign(tprop[\"bal_pred_sign\"]) in [0, np.sign(gen_surp)]:\n",
    "            bg = True\n",
    "        else:\n",
    "            bg = False\n",
    "            \n",
    "        dir_graph_surp[ttype][\"bg\"] = bg\n",
    "            \n",
    "        # rec_surp denotes the receptive surprise\n",
    "        rec_surp = get_surp(tprop[\"pos\"], tprop[\"rb\"], pos_prob[ttype])\n",
    "        dir_graph_surp[ttype][\"rec_surp\"] = round(rec_surp, 1)\n",
    "        \n",
    "        # consistency of status with receptive surprise,\n",
    "        # in case of equal positive and negative status we assume the does not sign matches\n",
    "        if np.sign(tprop[\"status_a\"]) not in [np.sign(rec_surp)]:\n",
    "            sr = True\n",
    "        else:\n",
    "            sr = False\n",
    "        \n",
    "        dir_graph_surp[ttype][\"sr\"] = sr\n",
    "        \n",
    "        # consistency of balance with receptive surprise,\n",
    "        # in case of equal positive and negative predictions we assume the prediction matches\n",
    "        if np.sign(tprop[\"bal_pred_sign\"]) in [0, np.sign(rec_surp)]:\n",
    "            br = True\n",
    "        else:\n",
    "            br = False\n",
    "        \n",
    "        dir_graph_surp[ttype][\"br\"] = br\n",
    "        \n",
    "    return dir_graph_surp"
   ]
  },
  {
   "cell_type": "markdown",
   "metadata": {},
   "source": [
    "#### Function to draw tables"
   ]
  },
  {
   "cell_type": "code",
   "execution_count": 12,
   "metadata": {},
   "outputs": [],
   "source": [
    "def draw_stats_table(nu_nodes: int, nu_edges: int, frac_pos_edges: float, frac_neg_edges: float, triad_count):\n",
    "    stats_table = PrettyTable()\n",
    "    stats_table.field_names = [\" \", \"Value\"]\n",
    "    stats_table.add_row([\"Nodes\", nu_nodes])\n",
    "    stats_table.add_row([\"Edges\", nu_edges])\n",
    "    stats_table.add_row([\"+Edges %\", frac_pos_edges])\n",
    "    stats_table.add_row([\"-Edges %\", frac_neg_edges])\n",
    "    stats_table.add_row([\"Triads\",  triad_count])\n",
    "    return stats_table\n",
    "\n",
    "def draw_undir_table(undir_graph_stats:dict):\n",
    "    undir_table = PrettyTable()\n",
    "    undir_table.field_names = [\"Triad Ti \", \"|Ti|\", \"P(Ti)\", \"Po(Ti)\", \"S(Ti)\"]\n",
    "    undir_table.add_row([\"T3 | + + +\", undir_graph_stats[\"T3\"][\"Ti\"], undir_graph_stats[\"T3\"][\"pTi\"], undir_graph_stats[\"T3\"][\"poTi\"], undir_graph_stats[\"T3\"][\"STi\"]])\n",
    "    undir_table.add_row([\"T1 | + - -\", undir_graph_stats[\"T1\"][\"Ti\"], undir_graph_stats[\"T1\"][\"pTi\"], undir_graph_stats[\"T1\"][\"poTi\"], undir_graph_stats[\"T1\"][\"STi\"]])\n",
    "    undir_table.add_row([\"T2 | + + -\", undir_graph_stats[\"T2\"][\"Ti\"], undir_graph_stats[\"T2\"][\"pTi\"], undir_graph_stats[\"T2\"][\"poTi\"], undir_graph_stats[\"T2\"][\"STi\"]])\n",
    "    undir_table.add_row([\"T0 | - - -\", undir_graph_stats[\"T0\"][\"Ti\"], undir_graph_stats[\"T0\"][\"pTi\"], undir_graph_stats[\"T0\"][\"poTi\"], undir_graph_stats[\"T0\"][\"STi\"]])\n",
    "    return undir_table\n",
    "\n",
    "def draw_dir_table(dir_graph_stats:dict):\n",
    "    dir_table = PrettyTable()\n",
    "    dir_table.field_names = [\"ti\", \"count\", \"P(+)\", \"sg\", \"sr\", \"Bg\", \"Br\", \"Sg\", \"Sr\"]\n",
    "    for tri_type, tri_stats in dir_graph_stats.items():\n",
    "        dir_table.add_row([tri_type, tri_stats[\"count\"], tri_stats[\"P+\"], tri_stats[\"gen_surp\"], tri_stats[\"rec_surp\"], tri_stats[\"bg\"], tri_stats[\"br\"], tri_stats[\"sg\"], tri_stats[\"sr\"]])\n",
    "    return dir_table\n",
    "\n",
    "def draw_recp_table(recpr_dict: dict):\n",
    "    \n",
    "    tot_recp_pos = sum(val[1] for val in recpr_dict.items() if val[0] in [\"P(+|+)\", \"P(-|+)\"])\n",
    "    tot_recp_neg = sum(val[1] for val in recpr_dict.items() if val[0] in [\"P(+|-)\", \"P(-|-)\"])\n",
    "    \n",
    "    recp_table = PrettyTable()\n",
    "    recp_table.field_names = [\"Reciprocation\", \"count\", \"Fraction\"]\n",
    "    for recp_type, recp_stats in recpr_dict.items():\n",
    "        cnt = recpr_dict[recp_type]\n",
    "        if recp_type in [\"P(+|+)\", \"P(-|+)\"]:\n",
    "            recp_table.add_row([recp_type, cnt, round(cnt/tot_recp_pos, 2)])\n",
    "        else:\n",
    "            recp_table.add_row([recp_type, cnt, round(cnt/tot_recp_neg, 2)])\n",
    "    return recp_table"
   ]
  },
  {
   "cell_type": "markdown",
   "metadata": {},
   "source": [
    "For the analysis of the network as a directed graph, we need to count the 16 types of triads as shown in the figure below.\n",
    "\n",
    "\n",
    "<img src=\"./images/figure_2.png\" width=350 align=\"center\" />\n",
    "\n",
    "We call the `A` node as from node, `B` node as to node (as the triad is generated by forming the edge from `A` to `B`), and `X` as a common neighbor. If the `from node` is receiving a connection from the common neighbor, we shall name it \"fr\" and \"fs\" in the opposite case. Similarly, if the `to node` is receiving a connection from a common neighbor, we shall name it \"tr\" and \"ts\" in the opposite case.\n",
    "\n",
    "Below we store this mapping in a dictionary. As each triad is represented by two attributes, we will use a frozen set of the from attribute and to attribute as the key of the dictionary. The reason for using a frozen set is it is hashable because it's immutable."
   ]
  },
  {
   "cell_type": "code",
   "execution_count": 13,
   "metadata": {},
   "outputs": [],
   "source": [
    "tri_mapping = {frozenset([(\"fs\",1),(\"tr\",1)]):\"t1\",\n",
    "              frozenset([(\"fs\",1),(\"tr\",-1)]):\"t2\",\n",
    "              frozenset([(\"fs\",1),(\"ts\",1)]):\"t3\",\n",
    "              frozenset([(\"fs\",1),(\"ts\",-1)]):\"t4\",\n",
    "              frozenset([(\"fs\",-1),(\"tr\",1)]):\"t5\",\n",
    "              frozenset([(\"fs\",-1),(\"tr\",-1)]):\"t6\",\n",
    "              frozenset([(\"fs\",-1),(\"ts\",1)]):\"t7\",\n",
    "              frozenset([(\"fs\",-1),(\"ts\",-1)]):\"t8\",\n",
    "              frozenset([(\"fr\",1),(\"tr\",1)]):\"t9\",\n",
    "              frozenset([(\"fr\",1),(\"tr\",-1)]):\"t10\",\n",
    "              frozenset([(\"fr\",1),(\"ts\",1)]):\"t11\",\n",
    "              frozenset([(\"fr\",1),(\"ts\",-1)]):\"t12\",\n",
    "              frozenset([(\"fr\",-1),(\"tr\",1)]):\"t13\",\n",
    "              frozenset([(\"fr\",-1),(\"tr\",-1)]):\"t14\",\n",
    "              frozenset([(\"fr\",-1),(\"ts\",1)]):\"t15\",\n",
    "              frozenset([(\"fr\",-1),(\"ts\",-1)]):\"t16\"}"
   ]
  },
  {
   "cell_type": "markdown",
   "metadata": {},
   "source": [
    "<hr style=\"border:2px solid black\"> </hr>\n",
    "\n",
    "## Analysis"
   ]
  },
  {
   "cell_type": "markdown",
   "metadata": {},
   "source": [
    "### BitCoin Alpha Dataset\n",
    "\n",
    "#### Dataset Description\n",
    "\n",
    "The signed network in the bitcoin transaction dataset is created by users trading Bitcoins, who rate other members on a scale of -10 (total distrust) to +10 (total trust) to prevent transactions with fraudulent and risky users. The data is stored in a compressed CSV file with no headers. There are four columns in the dataset and they are the source node, the destination node, the trust value, and the time of the creation of the edge.\n",
    "\n",
    "**As our analysis relates to the sign of the edge rather than the numerical value, we consider all the trust values less than 0 are -1 and the remaining as +1.**\n",
    "\n",
    "#### Creating the graph\n",
    "\n",
    "As the CSV file does not have any header, we skip the header and provide names to the columns and create a directed graph using the data frame as an edge list."
   ]
  },
  {
   "cell_type": "code",
   "execution_count": 14,
   "metadata": {},
   "outputs": [],
   "source": [
    "def get_sign(weight):\n",
    "    if weight < 0:\n",
    "        return -1\n",
    "    return 1\n",
    "\n",
    "## read the data to the dataframe\n",
    "bitcoin_df = pd.read_csv(\"./data/soc-sign-bitcoinalpha.csv.gz\", header=None, names=[\"FromNodeId\", \"ToNodeId\", \"Sign\", \"Time\"])\n",
    "bitcoin_df['Sign'] = bitcoin_df['Sign'].map(get_sign)\n",
    "\n",
    "bitcoin_graph = create_graph_from_df(bitcoin_df)"
   ]
  },
  {
   "cell_type": "markdown",
   "metadata": {},
   "source": [
    "#### Dataset Statistics"
   ]
  },
  {
   "cell_type": "code",
   "execution_count": 15,
   "metadata": {},
   "outputs": [
    {
     "name": "stdout",
     "output_type": "stream",
     "text": [
      "The number of nodes in Bitcoin Alpha network are 3783\n",
      "The number of edges in Bitcoin Alpha network are 24186\n",
      "\n",
      "The percentage of positive edges in the Bitcoin Alpha network is 93.6\n",
      "The percentage of negative edges in the Bitcoin Alpha network is 6.4\n",
      "\n"
     ]
    }
   ],
   "source": [
    "## Counting Nodes and Edges in Bitcoin Alpha network\n",
    "bitcoin_nodes, bitcoin_edges = count_nodes_edges(bitcoin_graph)\n",
    "print(\"The number of nodes in Bitcoin Alpha network are {0}\".format(bitcoin_nodes))\n",
    "print(\"The number of edges in Bitcoin Alpha network are {0}\".format(bitcoin_edges))\n",
    "print()\n",
    "## Counting the signs of the Edges in Bitcoin Alpha network\n",
    "bitcoin_pos_edges, bitcoin_neg_edges = count_edge_signs(bitcoin_graph)\n",
    "print(\"The percentage of positive edges in the Bitcoin Alpha network is {0}\".format(bitcoin_pos_edges))\n",
    "print(\"The percentage of negative edges in the Bitcoin Alpha network is {0}\".format(bitcoin_neg_edges))\n",
    "print()"
   ]
  },
  {
   "cell_type": "markdown",
   "metadata": {},
   "source": [
    "#### Analysis of the Bitcoin network as an undirected network"
   ]
  },
  {
   "cell_type": "code",
   "execution_count": 16,
   "metadata": {},
   "outputs": [
    {
     "name": "stdout",
     "output_type": "stream",
     "text": [
      "The number of Triads in Bitcoin Alpha network are 22153\n"
     ]
    }
   ],
   "source": [
    "# Counting the triads of each type in undirected Bitcoin Alpha network\n",
    "bitcoin_undir_triads = count_undir_triads(bitcoin_graph, \"./data/cache/bitcoinalpha_undir_triad\")\n",
    "\n",
    "# creating a Bitcoin Alpha graph with randomised edge signs\n",
    "rnd_bitcoin_graph_df = randomize_df(bitcoin_df)\n",
    "rnd_bitcoin_graph = create_graph_from_df(rnd_bitcoin_graph_df)\n",
    "\n",
    "# Counting the triads of each type in undirected Bitcoin Alpha network with randomised edge signs\n",
    "rnd_bitcoin_undir_triads = count_undir_triads(rnd_bitcoin_graph, \"./data/cache/rnd_bitcoinalpha_undir_triad\")\n",
    "\n",
    "bitcoin_graph_stats = get_undirected_metrics(bitcoin_undir_triads, rnd_bitcoin_undir_triads)\n",
    "\n",
    "print(\"The number of Triads in Bitcoin Alpha network are {0}\".format(bitcoin_graph_stats[\"delta\"]))"
   ]
  },
  {
   "cell_type": "markdown",
   "metadata": {},
   "source": [
    "#### Analysis of the Bitcoin network as an evolving directed network\n",
    "\n",
    "Using the already created graph, we obtain the generative and recptive baselines for each node."
   ]
  },
  {
   "cell_type": "code",
   "execution_count": 17,
   "metadata": {},
   "outputs": [
    {
     "name": "stderr",
     "output_type": "stream",
     "text": [
      "100%|██████████| 3783/3783 [00:00<00:00, 56459.75it/s]\n"
     ]
    }
   ],
   "source": [
    "btc_genbase, btc_recbase = get_baselines(bitcoin_graph)"
   ]
  },
  {
   "cell_type": "markdown",
   "metadata": {},
   "source": [
    "Get the census realted to the directed graph"
   ]
  },
  {
   "cell_type": "code",
   "execution_count": 18,
   "metadata": {},
   "outputs": [
    {
     "name": "stderr",
     "output_type": "stream",
     "text": [
      "24186it [00:02, 11191.76it/s]\n"
     ]
    }
   ],
   "source": [
    "btc_dirgraph_stats, bitcoin_recpr_dict = get_directed_stats(bitcoin_df, tri_mapping, btc_genbase, btc_recbase)"
   ]
  },
  {
   "cell_type": "markdown",
   "metadata": {},
   "source": [
    "To calculate the surprise i.e. the number of standard deviations by which the actual number of positive A-B edges for a triad differs above or below the number obtained through the bases we need the prior probability of having a positive edge for each triad type. For this, we shall keep the edge sequence and order the same and randomize the edge sign while maintaining the number of positive and negative signs. This is already obtained while performing the analysis on the undirected graph and we shall the same."
   ]
  },
  {
   "cell_type": "code",
   "execution_count": 19,
   "metadata": {},
   "outputs": [
    {
     "name": "stderr",
     "output_type": "stream",
     "text": [
      "24186it [00:02, 11522.64it/s]\n"
     ]
    }
   ],
   "source": [
    "# Get the census realted to the randomised directed graph\n",
    "# As we only need the number of positive edges for each type of triad and do not bother about other attributes, we use the ols generative and receptive bases\n",
    "btc_rnd_dirgraph_stats, _ = get_directed_stats(rnd_bitcoin_graph_df, tri_mapping, btc_genbase, btc_recbase)"
   ]
  },
  {
   "cell_type": "markdown",
   "metadata": {},
   "source": [
    "Using the information on number of positive edges in each type of triad, obtained by randomised sign graph. We get the priori probability of having a positive edge for each triad type."
   ]
  },
  {
   "cell_type": "code",
   "execution_count": 20,
   "metadata": {},
   "outputs": [],
   "source": [
    "btc_PoTi = get_posprob(btc_rnd_dirgraph_stats)\n",
    "\n",
    "# Evaluation with respect to balance and status theories.\n",
    "btc_eval = directed_evaluation(btc_dirgraph_stats, btc_PoTi)"
   ]
  },
  {
   "cell_type": "markdown",
   "metadata": {},
   "source": [
    "#### Visualisation and Discussion"
   ]
  },
  {
   "cell_type": "code",
   "execution_count": 21,
   "metadata": {},
   "outputs": [
    {
     "name": "stdout",
     "output_type": "stream",
     "text": [
      "Bitcoin Alpha Dataset Statitics on undirected graph\n",
      "+----------+-------+\n",
      "|          | Value |\n",
      "+----------+-------+\n",
      "|  Nodes   |  3783 |\n",
      "|  Edges   | 24186 |\n",
      "| +Edges % |  93.6 |\n",
      "| -Edges % |  6.4  |\n",
      "|  Triads  | 22153 |\n",
      "+----------+-------+\n",
      "\n",
      "\n",
      "Analysis of Undirected Bitcoin Alpha Dataset\n",
      "+------------+-------+-------+--------+-------+\n",
      "| Triad Ti   |  |Ti| | P(Ti) | Po(Ti) | S(Ti) |\n",
      "+------------+-------+-------+--------+-------+\n",
      "| T3 | + + + | 17014 | 0.768 | 0.825  | -22.4 |\n",
      "| T1 | + - - |  1667 | 0.075 | 0.011  |  93.4 |\n",
      "| T2 | + + - |  3333 |  0.15 | 0.164  |  -5.4 |\n",
      "| T0 | - - - |  139  | 0.006 |  0.0   |  46.3 |\n",
      "+------------+-------+-------+--------+-------+\n"
     ]
    }
   ],
   "source": [
    "print(\"Bitcoin Alpha Dataset Statitics on undirected graph\")\n",
    "print(draw_stats_table(bitcoin_nodes, bitcoin_edges, bitcoin_pos_edges, bitcoin_neg_edges, bitcoin_graph_stats[\"delta\"]))\n",
    "print(\"\\n\")\n",
    "print(\"Analysis of Undirected Bitcoin Alpha Dataset\")\n",
    "print(draw_undir_table(bitcoin_graph_stats))"
   ]
  },
  {
   "cell_type": "markdown",
   "metadata": {},
   "source": [
    "##### Description of undirected analysis results\n",
    "\n",
    "The triads for this network can be interpreted as below\n",
    "- $T_3$: If two users trust a common user then they trust each other.\n",
    "- $T_1$: If two users distrust a common user then they trust each other.\n",
    "- $T_2$: If two users trust a common user then they distrust each other.\n",
    "- $T_0$: If two users distrust a common user then they distrust each other.\n",
    "\n",
    "We find that the all-positive triad $T_3$, two-positive triad $T_2$ are underrepresented, and the triads of type $T_1$ and $T_0$ are overrepresented. This phenomenon cannot be explained by both Heider’s original notion of structural balance and Davis’s weaker notion of balance. \n",
    "\n",
    "<hr style=\"border:1px solid black\"> </hr>"
   ]
  },
  {
   "cell_type": "code",
   "execution_count": 22,
   "metadata": {},
   "outputs": [
    {
     "name": "stdout",
     "output_type": "stream",
     "text": [
      "ti incidates one of the 16 type of triads shown above, P(+) and Po(+) are the probability and a prori probability that the closing red edge is positive.\n",
      "sg: surprise of edge initiator giving a positive edge; sr: surprise of edge destination receiving a positive edge\n",
      "Bg: consistency of balance with generative surprise; Br: consistency of balance with receptive surprise; \n",
      "Sg: consistency of status with generative surprise; Sr: consistency of status with receptive surprise.\n",
      "\n",
      "Analysis of the Bitcoin network as an evolving directed network\n",
      "\n",
      "+-----+-------+------+-------+-------+-------+-------+-------+-------+\n",
      "|  ti | count | P(+) |   sg  |   sr  |   Bg  |   Br  |   Sg  |   Sr  |\n",
      "+-----+-------+------+-------+-------+-------+-------+-------+-------+\n",
      "|  t1 | 26910 | 0.92 | -23.5 |  6.0  | False |  True | False |  True |\n",
      "|  t2 |  1105 | 0.22 | -89.4 | -82.5 |  True |  True |  True | False |\n",
      "|  t3 | 27368 | 0.9  | -37.2 | -15.3 | False | False |  True | False |\n",
      "|  t4 |  709  | 0.67 | -21.2 | -13.9 |  True |  True | False | False |\n",
      "|  t5 |  1272 | 0.67 | -34.9 | -29.1 |  True |  True | False |  True |\n",
      "|  t6 |  201  | 0.61 | -17.7 | -13.0 | False | False |  True |  True |\n",
      "|  t7 |  950  | 0.57 | -41.5 | -38.4 |  True |  True |  True |  True |\n",
      "|  t8 |  900  | 0.83 | -11.1 |  0.3  | False |  True | False | False |\n",
      "|  t9 | 27563 | 0.92 | -29.4 |  2.9  | False |  True | False | False |\n",
      "| t10 |  1121 | 0.21 | -93.0 | -85.6 |  True |  True |  True |  True |\n",
      "| t11 | 26497 | 0.9  | -43.1 | -19.1 | False | False |  True |  True |\n",
      "| t12 |  1020 | 0.75 | -22.2 | -10.5 |  True |  True | False |  True |\n",
      "| t13 |  475  | 0.59 |  -9.8 | -24.0 |  True |  True | False | False |\n",
      "| t14 |  179  | 0.63 |  4.5  |  -8.1 |  True | False | False | False |\n",
      "| t15 |  475  | 0.56 | -10.2 | -27.7 |  True |  True |  True | False |\n",
      "| t16 |  159  | 0.81 |  2.8  |  2.4  |  True |  True |  True |  True |\n",
      "+-----+-------+------+-------+-------+-------+-------+-------+-------+\n"
     ]
    }
   ],
   "source": [
    "print(\"ti incidates one of the 16 type of triads shown above, P(+) and Po(+) are the probability and a prori probability that the closing red edge is positive.\")\n",
    "print(\"sg: surprise of edge initiator giving a positive edge; sr: surprise of edge destination receiving a positive edge\") \n",
    "print(\"Bg: consistency of balance with generative surprise; Br: consistency of balance with receptive surprise; \\nSg: consistency of status with generative surprise; Sr: consistency of status with receptive surprise.\\n\")\n",
    "print(\"Analysis of the Bitcoin network as an evolving directed network\\n\")\n",
    "print(draw_dir_table(btc_eval))"
   ]
  },
  {
   "cell_type": "markdown",
   "metadata": {},
   "source": [
    "##### Description of directed analysis results\n",
    "\n",
    "In the Bitcoin Alpha dataset, triad type t1, t3, t9, and t11 are abundant. All these triads have positive edges although the directions differ. These triads with all positive directed edges are only slightly underrepresented.\n",
    "\n",
    "We see that the directed triads with one positive directed link in either direction and the other link being negative are  underrepresented. To continue with this observation the other type of triads are also underrepresented. However, we can observe that the triads with all positive directed edges are only slightly underrepresented.\n",
    "\n",
    "Out of the 16 possible triads, the predictions of balance performs better than those of the status. The balance theory is consistent on 10 types with respect to generative surprise where status theory is only consistent in 8 types. With regard to the receptive surprise, the balance theory is consistent with 12 types and the status theory is consistent only on 8 types. While a look at both generative and receptive surprise together, balance theory is consistent in 9 types where are the status theory is consistent only in 5 types. \n",
    "\n",
    "<hr style=\"border:1px solid black\"> </hr>\n",
    "\n",
    "#### Analysis of the Reciprocity in the Bitcoin network."
   ]
  },
  {
   "cell_type": "code",
   "execution_count": 23,
   "metadata": {},
   "outputs": [
    {
     "name": "stdout",
     "output_type": "stream",
     "text": [
      "Analysis of edge Reciprocation in directed Bitcoin Alpha Dataset\n",
      "+---------------+-------+----------+\n",
      "| Reciprocation | count | Fraction |\n",
      "+---------------+-------+----------+\n",
      "|     P(+|+)    |  9678 |   0.98   |\n",
      "|     P(-|+)    |  222  |   0.02   |\n",
      "|     P(+|-)    |   26  |   0.16   |\n",
      "|     P(-|-)    |  136  |   0.84   |\n",
      "+---------------+-------+----------+\n",
      "The percentage of edges that reciprocate the edge are 41.60\n"
     ]
    }
   ],
   "source": [
    "print(\"Analysis of edge Reciprocation in directed Bitcoin Alpha Dataset\")\n",
    "print(draw_recp_table(bitcoin_recpr_dict))\n",
    "tot_recp = sum(val for val in bitcoin_recpr_dict.values())\n",
    "btc_recp_perc = (tot_recp/bitcoin_edges)*100\n",
    "print(\"The percentage of edges that reciprocate the edge are {0:.2f}\".format(btc_recp_perc))"
   ]
  },
  {
   "cell_type": "markdown",
   "metadata": {},
   "source": [
    "##### Description of on Edge Reciprocity results\n",
    "\n",
    "##### TODO: Nikhil"
   ]
  },
  {
   "cell_type": "markdown",
   "metadata": {},
   "source": [
    "<hr style=\"border:2px solid black\"> </hr>"
   ]
  },
  {
   "cell_type": "markdown",
   "metadata": {},
   "source": [
    "### Reddit Hyperlink Network Dataset\n",
    "\n",
    "#### Dataset Description\n",
    "\n",
    "The signed network in the Reddit dataset is the connections between two subreddits (a community on Reddit). Each connection represents the sentiments of one community towards the other in one post. Thus, there will be many connections from one subreddit to another. **We merge all the edges from one subreddit to another and take the majority sign as the sign of the edge between them.** The data is stored in a tsv file with `SOURCE_SUBREDDIT, TARGET_SUBREDDIT, POST_ID, TIMESTAMP, LINK_SENTIMENT, PROPERTIES` as headers. We ignore the POST_ID and PROPERTIES as we deal only with the sign of the edge. The *SOURCE_SUBREDDIT* will be the from node, *TARGET_SUBREDDIT* will be the to node, *LINK_SENTIMENT* which is 1 or -1 will be the edge sign."
   ]
  },
  {
   "cell_type": "markdown",
   "metadata": {},
   "source": [
    "#### Creating the graph\n",
    "\n",
    "As the tsv file has a header, we skip the columns we do not need and create the data frame.\n",
    "\n",
    "Firstly, We store the information about the edges in a dictionary of dictionaries. The first level key is the from node, the second level key will be the to node and the values are the sign of the edge and the time stamp of the last created link.\n",
    "\n",
    "Secondly, we store this dataframe in a binay file to avoid the computation.\n",
    "\n",
    "Lastly, We create a dictionary to store the subreddit name mapped to a unique integer as to avoid any potential memory issues while using networkx."
   ]
  },
  {
   "cell_type": "code",
   "execution_count": 24,
   "metadata": {},
   "outputs": [],
   "source": [
    "# try reading the pickle file. Users should chnage the bin_file variable to the address of the file\n",
    "\n",
    "\n",
    "bin_file = \"./data/subreddit_df\"\n",
    "\n",
    "try:\n",
    "    reddit_df = df = pd.read_pickle(bin_file)\n",
    "except IOError:\n",
    "    # read the data to the dataframe\n",
    "    reddit_df_full = pd.read_csv(\"./data/soc-redditHyperlinks-body.tsv.gz\", sep=\"\\t\", usecols=[\"SOURCE_SUBREDDIT\", \"TARGET_SUBREDDIT\", \"TIMESTAMP\", \"LINK_SENTIMENT\"])\n",
    "\n",
    "    # empty dictionary to store the network\n",
    "    reddit_adj_list = {}\n",
    "\n",
    "    for _, edge in reddit_df_full.iterrows():\n",
    "        from_node = edge[\"SOURCE_SUBREDDIT\"]\n",
    "        to_node = edge[\"TARGET_SUBREDDIT\"]\n",
    "        if from_node not in reddit_adj_list:\n",
    "            reddit_adj_list[from_node] = {}\n",
    "        if to_node not in reddit_adj_list[from_node]:\n",
    "            reddit_adj_list[from_node][to_node] = {\"Sign\": 0, \"Time\":None}\n",
    "        reddit_adj_list[from_node][to_node][\"Sign\"] += edge[\"LINK_SENTIMENT\"]\n",
    "        reddit_adj_list[from_node][to_node][\"Time\"] = edge[\"TIMESTAMP\"]\n",
    "\n",
    "    # convert the dictionary back into dataframe to reuse the function created.\n",
    "    reddit_list = []\n",
    "    for from_node, to_nodes in reddit_adj_list.items():\n",
    "        for to_node, edges in to_nodes.items():\n",
    "            reddit_list.append([from_node, to_node, get_sign(edges[\"Sign\"]), edges[\"Time\"]])\n",
    "\n",
    "    col_names = [\"FromNodeId\", \"ToNodeId\", \"Sign\", \"Time\"]\n",
    "    reddit_df = pd.DataFrame(data=reddit_list, columns =col_names)\n",
    "    # convert the Time from string to datetime format\n",
    "    reddit_df[\"Time\"] = pd.to_datetime(reddit_df[\"Time\"])\n",
    "     \n",
    "    reddit_df.to_pickle(bin_file)\n",
    "\n",
    "#creation of unique mapping between the subreddit name to a integer.\n",
    "all_nodes = set(reddit_df.FromNodeId.unique()).union(set(reddit_df.ToNodeId.unique()))\n",
    "node_int_map = {node: node_id for node_id, node in enumerate(all_nodes)}\n",
    "reddit_df['FromNodeId'] = reddit_df['FromNodeId'].map(node_int_map)\n",
    "reddit_df['ToNodeId'] = reddit_df['ToNodeId'].map(node_int_map)\n",
    "\n",
    "# creation of the graph\n",
    "reddit_graph = create_graph_from_df(reddit_df)"
   ]
  },
  {
   "cell_type": "markdown",
   "metadata": {},
   "source": [
    "#### Dataset Statistics"
   ]
  },
  {
   "cell_type": "code",
   "execution_count": 25,
   "metadata": {},
   "outputs": [
    {
     "name": "stdout",
     "output_type": "stream",
     "text": [
      "The number of nodes in Reddit Hyperlink Network are 35776\n",
      "The number of edges in Reddit Hyperlink Network are 137821\n",
      "\n",
      "The percentage of positive edges in the Reddit Hyperlink Network is 94.4\n",
      "The percentage of negative edges in the Reddit Hyperlink Network is 5.6\n",
      "\n"
     ]
    }
   ],
   "source": [
    "## Counting Nodes and Edges in Reddit Hyperlink Network\n",
    "reddit_nodes, reddit_edges = count_nodes_edges(reddit_graph)\n",
    "print(\"The number of nodes in Reddit Hyperlink Network are {0}\".format(reddit_nodes))\n",
    "print(\"The number of edges in Reddit Hyperlink Network are {0}\".format(reddit_edges))\n",
    "print()\n",
    "## Counting the signs of the Edges in Reddit Hyperlink Network\n",
    "reddit_pos_edges, reddit_neg_edges = count_edge_signs(reddit_graph)\n",
    "print(\"The percentage of positive edges in the Reddit Hyperlink Network is {0}\".format(reddit_pos_edges))\n",
    "print(\"The percentage of negative edges in the Reddit Hyperlink Network is {0}\".format(reddit_neg_edges))\n",
    "print()"
   ]
  },
  {
   "cell_type": "markdown",
   "metadata": {},
   "source": [
    "#### Analysis of the Reddit Hyperlink Network as an undirected network"
   ]
  },
  {
   "cell_type": "code",
   "execution_count": 26,
   "metadata": {},
   "outputs": [
    {
     "name": "stdout",
     "output_type": "stream",
     "text": [
      "The number of Triads in Reddit Hyperlink Network are 406391\n"
     ]
    }
   ],
   "source": [
    "# Counting the triads of each type in undirected Reddit Hyperlink Network\n",
    "reddit_undir_triads = count_undir_triads(reddit_graph, \"./data/cache/reddit_undir_triad\")\n",
    "\n",
    "# creating a Reddit Hyperlink Network graph with randomised edge signs\n",
    "rnd_reddit_graph_df = randomize_df(reddit_df)\n",
    "rnd_reddit_graph = create_graph_from_df(rnd_reddit_graph_df)\n",
    "\n",
    "# Counting the triads of each type in undirected Reddit Hyperlink Network with randomised edge signs\n",
    "rnd_reddit_undir_triads = count_undir_triads(rnd_reddit_graph, \"./data/cache/rnd_reddit_undir_triad\")\n",
    "\n",
    "reddit_graph_stats = get_undirected_metrics(reddit_undir_triads, rnd_reddit_undir_triads)\n",
    "\n",
    "print(\"The number of Triads in Reddit Hyperlink Network are {0}\".format(reddit_graph_stats[\"delta\"]))"
   ]
  },
  {
   "cell_type": "markdown",
   "metadata": {},
   "source": [
    "#### Analysis of the Reddit Hyperlink Network as an evolving directed network\n",
    "\n",
    "Using the already created graph, we obtain the generative and recptive baselines for each node."
   ]
  },
  {
   "cell_type": "code",
   "execution_count": 27,
   "metadata": {},
   "outputs": [
    {
     "name": "stderr",
     "output_type": "stream",
     "text": [
      "100%|██████████| 35776/35776 [00:00<00:00, 70138.89it/s]\n"
     ]
    }
   ],
   "source": [
    "reddit_genbase, reddit_recbase = get_baselines(reddit_graph)"
   ]
  },
  {
   "cell_type": "markdown",
   "metadata": {},
   "source": [
    "Get the census realted to the directed graph"
   ]
  },
  {
   "cell_type": "code",
   "execution_count": 28,
   "metadata": {},
   "outputs": [
    {
     "name": "stderr",
     "output_type": "stream",
     "text": [
      "137821it [00:14, 9557.58it/s]\n"
     ]
    }
   ],
   "source": [
    "reddit_dirgraph_stats, reddit_recpr_dict = get_directed_stats(reddit_df, tri_mapping, reddit_genbase, reddit_recbase)"
   ]
  },
  {
   "cell_type": "markdown",
   "metadata": {},
   "source": [
    "To calculate the surprise i.e. the number of standard deviations by which the actual number of positive A-B edges for a triad differs above or below the number obtained through the bases we need the prior probability of having a positive edge for each triad type. For this, we shall keep the edge sequence and order the same and randomize the edge sign while maintaining the number of positive and negative signs. This is already obtained while performing the analysis on the undirected graph and we shall the same."
   ]
  },
  {
   "cell_type": "code",
   "execution_count": 29,
   "metadata": {},
   "outputs": [
    {
     "name": "stderr",
     "output_type": "stream",
     "text": [
      "137821it [00:14, 9455.23it/s]\n"
     ]
    }
   ],
   "source": [
    "# Get the census realted to the randomised directed graph\n",
    "# As we only need the number of positive edges for each type of triad and do not bother about other attributes, we use the ols generative and receptive bases\n",
    "reddit_rnd_dirgraph_stats, _ = get_directed_stats(rnd_reddit_graph_df, tri_mapping, reddit_genbase, reddit_recbase)"
   ]
  },
  {
   "cell_type": "markdown",
   "metadata": {},
   "source": [
    "Using the information on number of positive edges in each type of triad, obtained by randomised sign graph. We get the priori probability of having a positive edge for each triad type."
   ]
  },
  {
   "cell_type": "code",
   "execution_count": 30,
   "metadata": {},
   "outputs": [],
   "source": [
    "reddit_PoTi = get_posprob(reddit_rnd_dirgraph_stats)\n",
    "\n",
    "# Evaluation with respect to balance and status theories.\n",
    "reddit_eval = directed_evaluation(reddit_dirgraph_stats, reddit_PoTi)"
   ]
  },
  {
   "cell_type": "markdown",
   "metadata": {},
   "source": [
    "#### Visualisation and Discussion"
   ]
  },
  {
   "cell_type": "code",
   "execution_count": 31,
   "metadata": {},
   "outputs": [
    {
     "name": "stdout",
     "output_type": "stream",
     "text": [
      "Reddit Hyperlink Network Dataset Statitics on undirected graph\n",
      "+----------+--------+\n",
      "|          | Value  |\n",
      "+----------+--------+\n",
      "|  Nodes   | 35776  |\n",
      "|  Edges   | 137821 |\n",
      "| +Edges % |  94.4  |\n",
      "| -Edges % |  5.6   |\n",
      "|  Triads  | 406391 |\n",
      "+----------+--------+\n",
      "\n",
      "\n",
      "Analysis of Undirected Reddit Hyperlink Network\n",
      "+------------+--------+-------+--------+-------+\n",
      "| Triad Ti   |  |Ti|  | P(Ti) | Po(Ti) | S(Ti) |\n",
      "+------------+--------+-------+--------+-------+\n",
      "| T3 | + + + | 328817 | 0.809 | 0.842  | -57.7 |\n",
      "| T1 | + - - |  8662  | 0.021 | 0.009  |  86.6 |\n",
      "| T2 | + + - | 68461  | 0.168 | 0.149  |  34.9 |\n",
      "| T0 | - - - |  451   | 0.001 |  0.0   |  41.5 |\n",
      "+------------+--------+-------+--------+-------+\n"
     ]
    }
   ],
   "source": [
    "print(\"Reddit Hyperlink Network Dataset Statitics on undirected graph\")\n",
    "print(draw_stats_table(reddit_nodes, reddit_edges, reddit_pos_edges, reddit_neg_edges, reddit_graph_stats[\"delta\"]))\n",
    "print(\"\\n\")\n",
    "print(\"Analysis of Undirected Reddit Hyperlink Network\")\n",
    "print(draw_undir_table(reddit_graph_stats))"
   ]
  },
  {
   "cell_type": "markdown",
   "metadata": {},
   "source": [
    "##### Description of undirected analysis results\n",
    "\n",
    "The triads for this network can be interpreted similarly to friendship.\n",
    "\n",
    "We find that the all-positive triad $T_3$ is underrepresented, and the triads of type $T_2$, $T_1$ and $T_0$ are overrepresented. This phenomenon cannot be explained by both Heider’s original notion of structural balance and Davis’s weaker notion of balance. \n",
    "\n",
    "<hr style=\"border:1px solid black\"> </hr>"
   ]
  },
  {
   "cell_type": "code",
   "execution_count": 32,
   "metadata": {},
   "outputs": [
    {
     "name": "stdout",
     "output_type": "stream",
     "text": [
      "ti incidates one of the 16 type of triads shown above, P(+) is the porbability that the closing red edge is positive.\n",
      "sg: surprise of edge initiator giving a positive edge; sr: surprise of edge destination receiving a positive edge\n",
      "Bg: consistency of balance with generative surprise; Br: consistency of balance with receptive surprise; \n",
      "Sg: consistency of status with generative surprise; Sr: consistency of status with receptive surprise.\n",
      "\n",
      "Analysis of the Reddit Hyperlink Network as an evolving directed network\n",
      "\n",
      "+-----+--------+------+------+-------+-------+-------+-------+-------+\n",
      "|  ti | count  | P(+) |  sg  |   sr  |   Bg  |   Br  |   Sg  |   Sr  |\n",
      "+-----+--------+------+------+-------+-------+-------+-------+-------+\n",
      "|  t1 | 189574 | 0.96 | 95.7 | 131.7 |  True |  True |  True |  True |\n",
      "|  t2 | 12164  | 0.93 | 18.7 |  37.7 | False | False | False |  True |\n",
      "|  t3 | 178217 | 0.95 | 85.4 |  27.6 |  True |  True | False |  True |\n",
      "|  t4 | 11257  | 0.93 | 18.9 |  36.3 | False | False |  True |  True |\n",
      "|  t5 | 16870  | 0.89 | 12.6 |  19.4 | False | False |  True | False |\n",
      "|  t6 |  1626  | 0.87 | 0.1  |  4.9  |  True |  True | False | False |\n",
      "|  t7 | 13780  | 0.88 | 4.6  | -15.0 | False |  True | False |  True |\n",
      "|  t8 |  1714  | 0.89 | 4.9  |  11.7 |  True |  True |  True | False |\n",
      "|  t9 | 190700 | 0.96 | 38.2 | 124.2 |  True |  True |  True | False |\n",
      "| t10 | 12216  | 0.93 | 4.1  |  38.2 | False | False | False | False |\n",
      "| t11 | 88097  | 0.97 | 23.8 |  22.9 |  True |  True | False | False |\n",
      "| t12 |  4323  | 0.93 | 3.6  |  26.3 | False | False |  True | False |\n",
      "| t13 | 12370  | 0.93 | 26.1 |  33.3 | False | False |  True |  True |\n",
      "| t14 |  2319  | 0.92 | 10.4 |  13.4 |  True |  True | False |  True |\n",
      "| t15 |  4491  | 0.93 | 14.8 |  3.5  | False | False | False |  True |\n",
      "| t16 |  434   | 0.89 | 2.1  |  4.7  |  True |  True |  True |  True |\n",
      "+-----+--------+------+------+-------+-------+-------+-------+-------+\n"
     ]
    }
   ],
   "source": [
    "print(\"ti incidates one of the 16 type of triads shown above, P(+) is the porbability that the closing red edge is positive.\")\n",
    "print(\"sg: surprise of edge initiator giving a positive edge; sr: surprise of edge destination receiving a positive edge\") \n",
    "print(\"Bg: consistency of balance with generative surprise; Br: consistency of balance with receptive surprise; \\nSg: consistency of status with generative surprise; Sr: consistency of status with receptive surprise.\\n\")\n",
    "print(\"Analysis of the Reddit Hyperlink Network as an evolving directed network\\n\")\n",
    "print(draw_dir_table(reddit_eval))"
   ]
  },
  {
   "cell_type": "markdown",
   "metadata": {},
   "source": [
    "##### Description of on directed analysis results\n",
    "\n",
    "The triads t1, t3, t9, and t11 are also abundant in this Reddit dataset. These triads with all positive directed edges are only overrepresented.\n",
    "\n",
    "Except for the previously mentioned 4 triads, the rest of them are underrepresented.\n",
    "\n",
    "Both the balance and status theory perform similarly on this data. The balance and status theory is consistent on 8 types for the generative surprise and 9 types for the receptive surprise. Taking a look at both generative and receptive surprise together, balance theory is consistent in 8 types where are the status theory is consistent only in 4 types. \n",
    "\n",
    "<hr style=\"border:1px solid black\"> </hr>"
   ]
  },
  {
   "cell_type": "code",
   "execution_count": 33,
   "metadata": {},
   "outputs": [
    {
     "name": "stdout",
     "output_type": "stream",
     "text": [
      "Analysis of edge Reciprocation in directed Reddit Hyperlink Network\n",
      "+---------------+-------+----------+\n",
      "| Reciprocation | count | Fraction |\n",
      "+---------------+-------+----------+\n",
      "|     P(+|+)    | 12847 |   0.98   |\n",
      "|     P(-|+)    |  270  |   0.02   |\n",
      "|     P(+|-)    |  345  |   0.92   |\n",
      "|     P(-|-)    |   29  |   0.08   |\n",
      "+---------------+-------+----------+\n",
      "The percentage of edges that reciprocate the edge are 9.79\n"
     ]
    }
   ],
   "source": [
    "print(\"Analysis of edge Reciprocation in directed Reddit Hyperlink Network\")\n",
    "print(draw_recp_table(reddit_recpr_dict))\n",
    "tot_recp = sum(val for val in reddit_recpr_dict.values())\n",
    "reddit_recp_perc = (tot_recp/reddit_edges)*100\n",
    "print(\"The percentage of edges that reciprocate the edge are {0:.2f}\".format(reddit_recp_perc))"
   ]
  },
  {
   "cell_type": "markdown",
   "metadata": {},
   "source": [
    "##### Description of edge reciprocation results\n",
    "\n",
    "##### TODO: Nikhil\n",
    "\n",
    "\n",
    "<hr style=\"border:2px solid black\"> </hr>"
   ]
  },
  {
   "cell_type": "code",
   "execution_count": null,
   "metadata": {},
   "outputs": [],
   "source": []
  }
 ],
 "metadata": {
  "kernelspec": {
   "display_name": "Python 3",
   "language": "python",
   "name": "python3"
  },
  "language_info": {
   "codemirror_mode": {
    "name": "ipython",
    "version": 3
   },
   "file_extension": ".py",
   "mimetype": "text/x-python",
   "name": "python",
   "nbconvert_exporter": "python",
   "pygments_lexer": "ipython3",
   "version": "3.8.5"
  }
 },
 "nbformat": 4,
 "nbformat_minor": 4
}
